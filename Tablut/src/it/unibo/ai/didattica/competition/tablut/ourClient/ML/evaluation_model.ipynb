{
 "cells": [
  {
   "cell_type": "code",
   "execution_count": 4,
   "metadata": {
    "colab": {
     "base_uri": "https://localhost:8080/",
     "height": 964
    },
    "executionInfo": {
     "elapsed": 43863,
     "status": "error",
     "timestamp": 1732441089658,
     "user": {
      "displayName": "Mattia Lodi",
      "userId": "04236055631688529155"
     },
     "user_tz": -60
    },
    "id": "_qYfg1LufDPl",
    "outputId": "020b88ee-6969-449d-d4d9-ca2ea1fba5c8"
   },
   "outputs": [
    {
     "name": "stdout",
     "output_type": "stream",
     "text": [
      "1.15.0\n"
     ]
    }
   ],
   "source": [
    "# !pip install tensorflow==1.15.0\n",
    "\n",
    "# %tensorflow_version 1.x\n",
    "import tensorflow as tf\n",
    "print(tf.__version__)"
   ]
  },
  {
   "cell_type": "code",
   "execution_count": 5,
   "metadata": {
    "id": "qjCv3dtlpQ4Y"
   },
   "outputs": [],
   "source": [
    "import tensorflow as tf\n",
    "from tensorflow.keras import layers, models\n",
    "import numpy as np\n"
   ]
  },
  {
   "cell_type": "code",
   "execution_count": 52,
   "metadata": {
    "colab": {
     "base_uri": "https://localhost:8080/",
     "height": 971
    },
    "executionInfo": {
     "elapsed": 44738,
     "status": "ok",
     "timestamp": 1732440746202,
     "user": {
      "displayName": "Mattia Lodi",
      "userId": "04236055631688529155"
     },
     "user_tz": -60
    },
    "id": "icJxVI408WkX",
    "outputId": "ee2fb291-96f4-4fc9-c6c4-9e5a1c69090a"
   },
   "outputs": [
    {
     "name": "stdout",
     "output_type": "stream",
     "text": [
      "Model: \"sequential_5\"\n",
      "_________________________________________________________________\n",
      "Layer (type)                 Output Shape              Param #   \n",
      "=================================================================\n",
      "dense_15 (Dense)             (None, 128)               10496     \n",
      "_________________________________________________________________\n",
      "dense_16 (Dense)             (None, 64)                8256      \n",
      "_________________________________________________________________\n",
      "dense_17 (Dense)             (None, 1)                 65        \n",
      "=================================================================\n",
      "Total params: 18,817\n",
      "Trainable params: 18,817\n",
      "Non-trainable params: 0\n",
      "_________________________________________________________________\n",
      "Train on 17784 samples, validate on 4446 samples\n",
      "Epoch 1/20\n",
      "17784/17784 [==============================] - 1s 44us/sample - loss: 0.0039 - mean_absolute_error: 0.0480 - val_loss: 0.0036 - val_mean_absolute_error: 0.0479\n",
      "Epoch 2/20\n",
      "17784/17784 [==============================] - 1s 39us/sample - loss: 0.0026 - mean_absolute_error: 0.0397 - val_loss: 0.0041 - val_mean_absolute_error: 0.0517\n",
      "Epoch 3/20\n",
      "17784/17784 [==============================] - 1s 37us/sample - loss: 0.0022 - mean_absolute_error: 0.0363 - val_loss: 0.0035 - val_mean_absolute_error: 0.0460\n",
      "Epoch 4/20\n",
      "17784/17784 [==============================] - 1s 31us/sample - loss: 0.0019 - mean_absolute_error: 0.0345 - val_loss: 0.0039 - val_mean_absolute_error: 0.0502\n",
      "Epoch 5/20\n",
      "17784/17784 [==============================] - 1s 33us/sample - loss: 0.0018 - mean_absolute_error: 0.0331 - val_loss: 0.0038 - val_mean_absolute_error: 0.0492\n",
      "Epoch 6/20\n",
      "17784/17784 [==============================] - 1s 35us/sample - loss: 0.0017 - mean_absolute_error: 0.0322 - val_loss: 0.0040 - val_mean_absolute_error: 0.0513\n",
      "Epoch 7/20\n",
      "17784/17784 [==============================] - 1s 36us/sample - loss: 0.0015 - mean_absolute_error: 0.0311 - val_loss: 0.0043 - val_mean_absolute_error: 0.0529\n",
      "Epoch 8/20\n",
      "17784/17784 [==============================] - 1s 40us/sample - loss: 0.0015 - mean_absolute_error: 0.0304 - val_loss: 0.0039 - val_mean_absolute_error: 0.0501\n",
      "Epoch 9/20\n",
      "17784/17784 [==============================] - 1s 36us/sample - loss: 0.0014 - mean_absolute_error: 0.0298 - val_loss: 0.0039 - val_mean_absolute_error: 0.0499\n",
      "Epoch 10/20\n",
      "17784/17784 [==============================] - 1s 36us/sample - loss: 0.0013 - mean_absolute_error: 0.0289 - val_loss: 0.0036 - val_mean_absolute_error: 0.0481\n",
      "Epoch 11/20\n",
      "17784/17784 [==============================] - 1s 36us/sample - loss: 0.0013 - mean_absolute_error: 0.0285 - val_loss: 0.0041 - val_mean_absolute_error: 0.0520\n",
      "Epoch 12/20\n",
      "17784/17784 [==============================] - 1s 32us/sample - loss: 0.0012 - mean_absolute_error: 0.0278 - val_loss: 0.0043 - val_mean_absolute_error: 0.0533\n",
      "Epoch 13/20\n",
      "17784/17784 [==============================] - 1s 35us/sample - loss: 0.0012 - mean_absolute_error: 0.0274 - val_loss: 0.0037 - val_mean_absolute_error: 0.0486\n",
      "Epoch 14/20\n",
      "17784/17784 [==============================] - 1s 35us/sample - loss: 0.0012 - mean_absolute_error: 0.0270 - val_loss: 0.0041 - val_mean_absolute_error: 0.0514\n",
      "Epoch 15/20\n",
      "17784/17784 [==============================] - 1s 40us/sample - loss: 0.0011 - mean_absolute_error: 0.0265 - val_loss: 0.0041 - val_mean_absolute_error: 0.0511\n",
      "Epoch 16/20\n",
      "17784/17784 [==============================] - 1s 34us/sample - loss: 0.0011 - mean_absolute_error: 0.0263 - val_loss: 0.0047 - val_mean_absolute_error: 0.0554\n",
      "Epoch 17/20\n",
      "17784/17784 [==============================] - 1s 46us/sample - loss: 0.0010 - mean_absolute_error: 0.0257 - val_loss: 0.0044 - val_mean_absolute_error: 0.0538\n",
      "Epoch 18/20\n",
      "17784/17784 [==============================] - 1s 59us/sample - loss: 0.0010 - mean_absolute_error: 0.0253 - val_loss: 0.0043 - val_mean_absolute_error: 0.0526\n",
      "Epoch 19/20\n",
      "17784/17784 [==============================] - 1s 42us/sample - loss: 9.9066e-04 - mean_absolute_error: 0.0249 - val_loss: 0.0047 - val_mean_absolute_error: 0.0553\n",
      "Epoch 20/20\n",
      "17784/17784 [==============================] - 1s 45us/sample - loss: 9.6216e-04 - mean_absolute_error: 0.0246 - val_loss: 0.0046 - val_mean_absolute_error: 0.0546\n"
     ]
    },
    {
     "data": {
      "text/plain": [
       "<tensorflow.python.keras.callbacks.History at 0x1f86c839d30>"
      ]
     },
     "execution_count": 52,
     "metadata": {},
     "output_type": "execute_result"
    }
   ],
   "source": [
    "# Caricamento dei dati\n",
    "X = np.load('./dataset/states.npy')\n",
    "y = np.load('./dataset/evals.npy')\n",
    "\n",
    "\n",
    "# Creazione del modello\n",
    "model = models.Sequential()\n",
    "\n",
    "# Aggiunta di un layer di input (vettore di lunghezza 81)\n",
    "model.add(layers.InputLayer(input_shape=(81,)))\n",
    "\n",
    "# Layer hidden: possiamo utilizzare 2 o più layer densi\n",
    "model.add(layers.Dense(128, activation='relu'))  # Primo layer denso con 128 neuroni\n",
    "model.add(layers.Dense(64, activation='relu'))   # Secondo layer denso con 64 neuroni\n",
    "\n",
    "# Layer di output: un singolo neurone con attivazione sigmoide per avere un output tra 0 e 1\n",
    "model.add(layers.Dense(1, activation='sigmoid'))\n",
    "\n",
    "# Compilazione del modello\n",
    "model.compile(optimizer='adam', loss='mean_squared_error', metrics=['mae'])\n",
    "\n",
    "# Riassunto del modello\n",
    "model.summary()\n",
    "\n",
    "# Addestramento del modello\n",
    "model.fit(X, y, epochs=20, batch_size=32, validation_split=0.2)"
   ]
  },
  {
   "cell_type": "code",
   "execution_count": 7,
   "metadata": {
    "colab": {
     "base_uri": "https://localhost:8080/"
    },
    "executionInfo": {
     "elapsed": 238,
     "status": "ok",
     "timestamp": 1732440746948,
     "user": {
      "displayName": "Mattia Lodi",
      "userId": "04236055631688529155"
     },
     "user_tz": -60
    },
    "id": "uiMGBz9595mB",
    "outputId": "ce89dd30-49a0-4e14-bc44-a027052b03bb"
   },
   "outputs": [
    {
     "name": "stdout",
     "output_type": "stream",
     "text": [
      "test_input: [[ 1 -1  0 -1  0  1  0  0  1  1 -1  0 -1  1  2  1  0  1 -1  0  1 -1  0  0\n",
      "   1  1  1 -1  1  0  1  1  0  1  0 -1 -1 -1  0  0  0  1  1  0  0  1  1 -1\n",
      "   1  0  0  0  0  0  0 -1 -1  0  0  0 -1  0  1 -1  0 -1 -1  0  0 -1  1  1\n",
      "   0  1 -1  1  1 -1  0 -1  1]]\n",
      "Predizione: 0.8337529897689819\n"
     ]
    }
   ],
   "source": [
    "\n",
    "# Previsione su nuovi dati\n",
    "test_input = np.random.choice([0, 1, -1], size=(1, 81))  # Un esempio casuale di input\n",
    "test_input[0, 14] = 2\n",
    "prediction = model.predict(test_input)\n",
    "\n",
    "print(f'test_input: {test_input}')\n",
    "print(f'Predizione: {prediction[0][0]}')"
   ]
  },
  {
   "cell_type": "code",
   "execution_count": 20,
   "metadata": {},
   "outputs": [
    {
     "name": "stdout",
     "output_type": "stream",
     "text": [
      "INFO:tensorflow:Restoring parameters from ./evaluation_model\\variables\\variables\n",
      "INFO:tensorflow:Froze 6 variables.\n",
      "INFO:tensorflow:Converted 6 variables to const ops.\n"
     ]
    }
   ],
   "source": [
    "tf.compat.v1.disable_eager_execution()\n",
    "\n",
    "# Carica il modello SavedModel\n",
    "with tf.compat.v1.Session() as sess:\n",
    "    tf.saved_model.loader.load(sess, [\"serve\"], \"./evaluation_model\")\n",
    "    \n",
    "    # Congeliamo il grafo\n",
    "    frozen_graph = tf.compat.v1.graph_util.convert_variables_to_constants(\n",
    "        sess, sess.graph.as_graph_def(), [\"dense_2/Sigmoid\"]\n",
    "    )\n",
    "    \n",
    "    # Salviamo il grafo congelato in formato .pb\n",
    "    with tf.gfile.GFile(\"./evaluation_model/frozen_model.pb\", \"wb\") as f:\n",
    "        f.write(frozen_graph.SerializeToString())"
   ]
  }
 ],
 "metadata": {
  "colab": {
   "authorship_tag": "ABX9TyPHWDEF87db711oW+fYURg3",
   "provenance": []
  },
  "kernelspec": {
   "display_name": "alg_ml",
   "language": "python",
   "name": "python3"
  },
  "language_info": {
   "codemirror_mode": {
    "name": "ipython",
    "version": 3
   },
   "file_extension": ".py",
   "mimetype": "text/x-python",
   "name": "python",
   "nbconvert_exporter": "python",
   "pygments_lexer": "ipython3",
   "version": "3.6.13"
  }
 },
 "nbformat": 4,
 "nbformat_minor": 0
}
