{
 "cells": [
  {
   "cell_type": "code",
   "execution_count": 35,
   "metadata": {},
   "outputs": [],
   "source": [
    "import math\n",
    "import json\n",
    "import csv\n",
    "import random\n",
    "import pandas as pd\n",
    "import numpy as np\n",
    "from sklearn.linear_model import LinearRegression\n",
    "from sklearn.model_selection import train_test_split\n",
    "from sklearn.metrics import mean_squared_error"
   ]
  },
  {
   "cell_type": "markdown",
   "metadata": {},
   "source": [
    "## Dataset creation"
   ]
  },
  {
   "cell_type": "code",
   "execution_count": 26,
   "metadata": {},
   "outputs": [
    {
     "name": "stdout",
     "output_type": "stream",
     "text": [
      "0.7853981633974483\n"
     ]
    }
   ],
   "source": [
    "print(math.atan(1))"
   ]
  },
  {
   "cell_type": "code",
   "execution_count": 29,
   "metadata": {},
   "outputs": [],
   "source": [
    "def calc_heuristics_white(state_str):\n",
    "    state = np.array(list(state_str)).reshape((9,9))\n",
    "\n",
    "    material = state_str.count('W')*2 - state_str.count('B')/16\n",
    "    \n",
    "    k = state_str.index('K')\n",
    "    x = k // 9\n",
    "    y = k % 9\n",
    "    king_center_distance = (math.sqrt(math.pow((4 - x), 2) + math.pow(4 - y, 2)) / 7)\n",
    "\n",
    "    king_open_files = 4\n",
    "    i = y-1\n",
    "    while i >= 0:\n",
    "        if state[x, i] == 'O':\n",
    "            i -= 1\n",
    "        else:\n",
    "            king_open_files -= 1\n",
    "            break\n",
    "    \n",
    "    i = y+1\n",
    "    while i < 9:\n",
    "        if state[x, i] == 'O':\n",
    "            i += 1\n",
    "        else:\n",
    "            king_open_files -= 1\n",
    "            break\n",
    "    \n",
    "    \n",
    "    i = x-1\n",
    "    while i >= 0:\n",
    "        if state[i, y] == 'O':\n",
    "            i -= 1\n",
    "        else:\n",
    "            king_open_files -= 1\n",
    "            break\n",
    "    \n",
    "    i = x+1\n",
    "    while i < 9:\n",
    "        if state[i, y] == 'O':\n",
    "            i += 1\n",
    "        else:\n",
    "            king_open_files -= 1\n",
    "            break\n",
    "\n",
    "    distances = []\n",
    "    for i in range(len(state_str)):\n",
    "        if state_str[i] == 'W':\n",
    "            distances.append(abs(i//9 - 4) + abs(i%9 - 4))\n",
    "    dispersion = sum(distances) / len(distances)\n",
    "\n",
    "    return math.atan(material)/(math.pi/2), math.atan(king_center_distance)/(math.pi/2), math.atan(king_open_files)/(math.pi/2), math.atan(dispersion)/(math.pi/2)"
   ]
  },
  {
   "cell_type": "code",
   "execution_count": 55,
   "metadata": {},
   "outputs": [
    {
     "name": "stdout",
     "output_type": "stream",
     "text": [
      "[0.59, 0.685, 0.575, 0.7, 0.74, 0.65, 0.645, 0.71, 0.605, 0.76, 0.73, 0.72, 0.675, 0.79, 0.75, 0.75, 0.625, 0.66, 0.645, 0.635, 0.645, 0.73, 0.705, 0.705, 0.75, 0.745, 0.7, 0.725, 0.69, 0.76, 0.71, 0.755, 0.745, 0.79, 0.7, 0.715, 0.815, 0.775, 0.87, 0.945, 0.61, 0.67, 0.72, 0.635, 0.61, 0.62, 0.595, 0.575, 0.54, 0.59, 0.6, 0.74, 0.54, 0.73, 0.65, 0.81, 0.705, 0.68, 0.65, 0.675, 0.645, 0.625, 0.645, 0.685, 0.69, 0.665, 0.635, 0.67, 0.645, 0.64, 0.82, 0.67, 0.745, 0.66, 0.685, 0.605, 0.705, 0.7, 0.665, 0.76, 0.78, 0.785, 0.79, 0.725, 0.685, 0.66, 0.665, 0.665, 0.67, 0.615, 0.685, 0.73, 0.62, 0.675, 0.725, 0.675, 0.73, 0.81, 0.755, 0.73]\n",
      "[0.18 0.37 0.15 0.4  0.48 0.3  0.29 0.42 0.21 0.52 0.46 0.44 0.35 0.58\n",
      " 0.5  0.5  0.25 0.32 0.29 0.27 0.29 0.46 0.41 0.41 0.5  0.49 0.4  0.45\n",
      " 0.38 0.52 0.42 0.51 0.49 0.58 0.4  0.43 0.63 0.55 0.74 0.89 0.22 0.34\n",
      " 0.44 0.27 0.22 0.24 0.19 0.15 0.08 0.18 0.2  0.48 0.08 0.46 0.3  0.62\n",
      " 0.41 0.36 0.3  0.35 0.29 0.25 0.29 0.37 0.38 0.33 0.27 0.34 0.29 0.28\n",
      " 0.64 0.34 0.49 0.32 0.37 0.21 0.41 0.4  0.33 0.52 0.56 0.57 0.58 0.45\n",
      " 0.37 0.32 0.33 0.33 0.34 0.23 0.37 0.46 0.24 0.35 0.45 0.35 0.46 0.62\n",
      " 0.51 0.46]\n"
     ]
    }
   ],
   "source": [
    "with open('./dataset/dataset.json') as json_file:\n",
    "    data = json.load(json_file)\n",
    "\n",
    "states = data['x']\n",
    "evals = data['y']\n",
    "\n",
    "print(evals[:100])\n",
    "print(np.array(evals[:100])*2-1)\n",
    "# assert len(states) == len(evals)\n",
    "\n",
    "# data_file = open('./dataset/heuristics_white.csv', 'w')\n",
    "\n",
    "# csv_writer = csv.writer(data_file)\n",
    "\n",
    "# csv_writer.writerow(['h1', 'h2', 'h3', 'h4', 'eval'])\n",
    "# for i in range(len(states)):\n",
    "#     h1, h2, h3, h4  = calc_heuristics_white(states[i])\n",
    "#     csv_writer.writerow([h1, h2, h3, h4, evals[i]*2-1])\n",
    "\n",
    "# data_file.close()"
   ]
  },
  {
   "cell_type": "markdown",
   "metadata": {},
   "source": [
    "## Linear regression"
   ]
  },
  {
   "cell_type": "code",
   "execution_count": 33,
   "metadata": {},
   "outputs": [
    {
     "data": {
      "text/html": [
       "<div>\n",
       "<style scoped>\n",
       "    .dataframe tbody tr th:only-of-type {\n",
       "        vertical-align: middle;\n",
       "    }\n",
       "\n",
       "    .dataframe tbody tr th {\n",
       "        vertical-align: top;\n",
       "    }\n",
       "\n",
       "    .dataframe thead th {\n",
       "        text-align: right;\n",
       "    }\n",
       "</style>\n",
       "<table border=\"1\" class=\"dataframe\">\n",
       "  <thead>\n",
       "    <tr style=\"text-align: right;\">\n",
       "      <th></th>\n",
       "      <th>h1</th>\n",
       "      <th>h2</th>\n",
       "      <th>h3</th>\n",
       "      <th>h4</th>\n",
       "      <th>eval</th>\n",
       "    </tr>\n",
       "  </thead>\n",
       "  <tbody>\n",
       "    <tr>\n",
       "      <th>0</th>\n",
       "      <td>0.957621</td>\n",
       "      <td>0.0</td>\n",
       "      <td>0.0</td>\n",
       "      <td>0.625666</td>\n",
       "      <td>0.18</td>\n",
       "    </tr>\n",
       "    <tr>\n",
       "      <th>1</th>\n",
       "      <td>0.957621</td>\n",
       "      <td>0.0</td>\n",
       "      <td>0.0</td>\n",
       "      <td>0.688083</td>\n",
       "      <td>0.37</td>\n",
       "    </tr>\n",
       "    <tr>\n",
       "      <th>2</th>\n",
       "      <td>0.951125</td>\n",
       "      <td>0.0</td>\n",
       "      <td>0.0</td>\n",
       "      <td>0.685547</td>\n",
       "      <td>0.15</td>\n",
       "    </tr>\n",
       "    <tr>\n",
       "      <th>3</th>\n",
       "      <td>0.951125</td>\n",
       "      <td>0.0</td>\n",
       "      <td>0.0</td>\n",
       "      <td>0.737451</td>\n",
       "      <td>0.40</td>\n",
       "    </tr>\n",
       "    <tr>\n",
       "      <th>4</th>\n",
       "      <td>0.951125</td>\n",
       "      <td>0.0</td>\n",
       "      <td>0.0</td>\n",
       "      <td>0.737451</td>\n",
       "      <td>0.48</td>\n",
       "    </tr>\n",
       "  </tbody>\n",
       "</table>\n",
       "</div>"
      ],
      "text/plain": [
       "         h1   h2   h3        h4  eval\n",
       "0  0.957621  0.0  0.0  0.625666  0.18\n",
       "1  0.957621  0.0  0.0  0.688083  0.37\n",
       "2  0.951125  0.0  0.0  0.685547  0.15\n",
       "3  0.951125  0.0  0.0  0.737451  0.40\n",
       "4  0.951125  0.0  0.0  0.737451  0.48"
      ]
     },
     "execution_count": 33,
     "metadata": {},
     "output_type": "execute_result"
    }
   ],
   "source": [
    "file_path = './dataset/heuristics_white.csv'\n",
    "df = pd.read_csv(file_path)\n",
    "df.head()"
   ]
  },
  {
   "cell_type": "code",
   "execution_count": 51,
   "metadata": {},
   "outputs": [
    {
     "name": "stdout",
     "output_type": "stream",
     "text": [
      "Peso per l'euristica 1: -0.785484889465902\n",
      "Peso per l'euristica 2: 0.2662737563271873\n",
      "Peso per l'euristica 3: -0.020088909707991355\n",
      "Peso per l'euristica 4: -0.12993587292599992\n",
      "Intercetta (bias): 1.144743893280369\n",
      " \n",
      "Errore quadratico medio (MSE) sul set di test: 0.015562544169923975\n",
      " \n",
      "Reale: 0.3600000000000001, Predetto: 0.3895731202698999\n",
      "Reale: 0.29, Predetto: 0.2785598131125089\n",
      "Reale: 0.07, Predetto: 0.4292903259711658\n",
      "Reale: 0.4099999999999999, Predetto: 0.3009637004845197\n",
      "Reale: 0.31, Predetto: 0.3191067033924265\n",
      "Reale: 0.24, Predetto: 0.3032410653869617\n",
      "Reale: 0.4499999999999999, Predetto: 0.35770922798552807\n",
      "Reale: 0.4399999999999999, Predetto: 0.33596473087059797\n",
      "Reale: 0.3, Predetto: 0.3607702255300056\n",
      "Reale: 0.1899999999999999, Predetto: 0.2785598131125089\n"
     ]
    }
   ],
   "source": [
    "X = df.iloc[:, :-1].values\n",
    "y = df.iloc[:, -1].values\n",
    "\n",
    "# 80% training, 20% testing\n",
    "X_train, X_test, y_train, y_test = train_test_split(X, y, test_size=0.2, random_state=333)\n",
    "\n",
    "model = LinearRegression()\n",
    "model.fit(X_train, y_train)\n",
    "\n",
    "weights = model.coef_\n",
    "intercept = model.intercept_\n",
    "\n",
    "for i, weight in enumerate(weights):\n",
    "    print(f\"Peso per l'euristica {i+1}: {weight}\")\n",
    "print(f\"Intercetta (bias): {intercept}\")\n",
    "\n",
    "\n",
    "y_pred = model.predict(X_test)\n",
    "\n",
    "# MSE\n",
    "mse = mean_squared_error(y_test, y_pred)\n",
    "print(\" \")\n",
    "print(f\"Errore quadratico medio (MSE) sul set di test: {mse}\")\n",
    "\n",
    "print(\" \")\n",
    "for i in range(10):\n",
    "    r = random.randint(0, len(y_pred))\n",
    "    print(f\"Reale: {y_test[r]}, Predetto: {y_pred[r]}\")"
   ]
  }
 ],
 "metadata": {
  "kernelspec": {
   "display_name": "base",
   "language": "python",
   "name": "python3"
  },
  "language_info": {
   "codemirror_mode": {
    "name": "ipython",
    "version": 3
   },
   "file_extension": ".py",
   "mimetype": "text/x-python",
   "name": "python",
   "nbconvert_exporter": "python",
   "pygments_lexer": "ipython3",
   "version": "3.9.20"
  }
 },
 "nbformat": 4,
 "nbformat_minor": 2
}
